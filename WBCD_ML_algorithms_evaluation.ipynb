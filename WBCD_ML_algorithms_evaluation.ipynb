{
 "cells": [
  {
   "cell_type": "markdown",
   "id": "cf99b1b9",
   "metadata": {},
   "source": [
    "## ML with WBCD"
   ]
  },
  {
   "cell_type": "markdown",
   "id": "62840bfb",
   "metadata": {},
   "source": [
    "### Citation Request:\n",
    "   This breast cancer databases was obtained from the University of Wisconsin\n",
    "   Hospitals, Madison from Dr. William H. Wolberg.  If you publish results\n",
    "   when using this database, then please include this information in your\n",
    "   acknowledgements.  Also, please cite one or more of:\n",
    "\n",
    "   1. O. L. Mangasarian and W. H. Wolberg: \"Cancer diagnosis via linear \n",
    "      programming\", SIAM News, Volume 23, Number 5, September 1990, pp 1 & 18.\n",
    "\n",
    "   2. William H. Wolberg and O.L. Mangasarian: \"Multisurface method of \n",
    "      pattern separation for medical diagnosis applied to breast cytology\", \n",
    "      Proceedings of the National Academy of Sciences, U.S.A., Volume 87, \n",
    "      December 1990, pp 9193-9196.\n",
    "\n",
    "   3. O. L. Mangasarian, R. Setiono, and W.H. Wolberg: \"Pattern recognition \n",
    "      via linear programming: Theory and application to medical diagnosis\", \n",
    "      in: \"Large-scale numerical optimization\", Thomas F. Coleman and Yuying\n",
    "      Li, editors, SIAM Publications, Philadelphia 1990, pp 22-30.\n",
    "\n",
    "   4. K. P. Bennett & O. L. Mangasarian: \"Robust linear programming \n",
    "      discrimination of two linearly inseparable sets\", Optimization Methods\n",
    "      and Software 1, 1992, 23-34 (Gordon & Breach Science Publishers).\n",
    "\n",
    "1. Title: Wisconsin Breast Cancer Database (January 8, 1991)\n",
    "\n",
    "2. Sources:\n",
    "   -- Dr. WIlliam H. Wolberg (physician)\n",
    "      University of Wisconsin Hospitals\n",
    "      Madison, Wisconsin\n",
    "      USA\n",
    "   -- Donor: Olvi Mangasarian (mangasarian@cs.wisc.edu)\n",
    "      Received by David W. Aha (aha@cs.jhu.edu)\n",
    "   -- Date: 15 July 1992\n",
    "\n",
    "3. Past Usage:\n",
    "\n",
    "   Attributes 2 through 10 have been used to represent instances.\n",
    "   Each instance has one of 2 possible classes: benign or malignant.\n",
    "\n",
    "   1. Wolberg,~W.~H., \\& Mangasarian,~O.~L. (1990). Multisurface method of \n",
    "      pattern separation for medical diagnosis applied to breast cytology. In\n",
    "      {\\it Proceedings of the National Academy of Sciences}, {\\it 87},\n",
    "      9193--9196.\n",
    "      -- Size of data set: only 369 instances (at that point in time)\n",
    "      -- Collected classification results: 1 trial only\n",
    "      -- Two pairs of parallel hyperplanes were found to be consistent with\n",
    "         50% of the data\n",
    "         -- Accuracy on remaining 50% of dataset: 93.5%\n",
    "      -- Three pairs of parallel hyperplanes were found to be consistent with\n",
    "         67% of data\n",
    "         -- Accuracy on remaining 33% of dataset: 95.9%\n",
    "\n",
    "   2. Zhang,~J. (1992). Selecting typical instances in instance-based\n",
    "      learning.  In {\\it Proceedings of the Ninth International Machine\n",
    "      Learning Conference} (pp. 470--479).  Aberdeen, Scotland: Morgan\n",
    "      Kaufmann.\n",
    "      -- Size of data set: only 369 instances (at that point in time)\n",
    "      -- Applied 4 instance-based learning algorithms \n",
    "      -- Collected classification results averaged over 10 trials\n",
    "      -- Best accuracy result: \n",
    "         -- 1-nearest neighbor: 93.7%\n",
    "         -- trained on 200 instances, tested on the other 169\n",
    "      -- Also of interest:\n",
    "         -- Using only typical instances: 92.2% (storing only 23.1 instances)\n",
    "         -- trained on 200 instances, tested on the other 169\n",
    "\n",
    "4. Relevant Information:\n",
    "\n",
    "   Samples arrive periodically as Dr. Wolberg reports his clinical cases.\n",
    "   The database therefore reflects this chronological grouping of the data.\n",
    "   This grouping information appears immediately below, having been removed\n",
    "   from the data itself:\n",
    "\n",
    "     Group 1: 367 instances (January 1989)\n",
    "     Group 2:  70 instances (October 1989)\n",
    "     Group 3:  31 instances (February 1990)\n",
    "     Group 4:  17 instances (April 1990)\n",
    "     Group 5:  48 instances (August 1990)\n",
    "     Group 6:  49 instances (Updated January 1991)\n",
    "     Group 7:  31 instances (June 1991)\n",
    "     Group 8:  86 instances (November 1991)\n",
    "     -----------------------------------------\n",
    "     Total:   699 points (as of the donated datbase on 15 July 1992)\n",
    "\n",
    "   Note that the results summarized above in Past Usage refer to a dataset\n",
    "   of size 369, while Group 1 has only 367 instances.  This is because it\n",
    "   originally contained 369 instances; 2 were removed.  The following\n",
    "   statements summarizes changes to the original Group 1's set of data:\n",
    "\n",
    "   #####  Group 1 : 367 points: 200B 167M (January 1989)\n",
    "   #####  Revised Jan 10, 1991: Replaced zero bare nuclei in 1080185 & 1187805\n",
    "   #####  Revised Nov 22,1991: Removed 765878,4,5,9,7,10,10,10,3,8,1 no record\n",
    "   #####                  : Removed 484201,2,7,8,8,4,3,10,3,4,1 zero epithelial\n",
    "   #####                  : Changed 0 to 1 in field 6 of sample 1219406\n",
    "   #####                  : Changed 0 to 1 in field 8 of following sample:\n",
    "   #####                  : 1182404,2,3,1,1,1,2,0,1,1,1\n",
    "\n",
    "5. Number of Instances: 699 (as of 15 July 1992)\n",
    "\n",
    "6. Number of Attributes: 10 plus the class attribute\n",
    "\n",
    "7. Attribute Information: (class attribute has been moved to last column)\n",
    "\n",
    "   #  Attribute                     Domain\n",
    "   -- -----------------------------------------\n",
    "   1. Sample code number            id number\n",
    "   2. Clump Thickness               1 - 10\n",
    "   3. Uniformity of Cell Size       1 - 10\n",
    "   4. Uniformity of Cell Shape      1 - 10\n",
    "   5. Marginal Adhesion             1 - 10\n",
    "   6. Single Epithelial Cell Size   1 - 10\n",
    "   7. Bare Nuclei                   1 - 10\n",
    "   8. Bland Chromatin               1 - 10\n",
    "   9. Normal Nucleoli               1 - 10\n",
    "  10. Mitoses                       1 - 10\n",
    "  11. Class:                        (2 for benign, 4 for malignant)\n",
    "\n",
    "8. Missing attribute values: 16\n",
    "\n",
    "   There are 16 instances in Groups 1 to 6 that contain a single missing \n",
    "   (i.e., unavailable) attribute value, now denoted by \"?\".  \n",
    "\n",
    "9. Class distribution:\n",
    " \n",
    "   Benign: 458 (65.5%)\n",
    "   Malignant: 241 (34.5%)\n"
   ]
  },
  {
   "cell_type": "code",
   "execution_count": 1,
   "id": "69e3fed6",
   "metadata": {
    "ExecuteTime": {
     "end_time": "2021-07-15T22:17:40.932577Z",
     "start_time": "2021-07-15T22:17:37.596323Z"
    }
   },
   "outputs": [],
   "source": [
    "import numpy as np\n",
    "import pandas as pd\n",
    "import matplotlib.pyplot as plt\n",
    "%matplotlib inline \n",
    "import seaborn as sns\n",
    "import warnings\n",
    "warnings.filterwarnings(\"ignore\")\n",
    "from sklearn.utils import resample\n",
    "from sklearn.model_selection import train_test_split\n",
    "from sklearn.neighbors import KNeighborsClassifier\n",
    "from sklearn.linear_model import LogisticRegression\n",
    "from sklearn.svm import SVC\n",
    "from sklearn.tree import DecisionTreeClassifier\n",
    "from sklearn.ensemble import RandomForestClassifier\n",
    "from sklearn.pipeline import Pipeline\n",
    "from sklearn.model_selection import GridSearchCV\n",
    "from sklearn.preprocessing import StandardScaler\n",
    "from sklearn import model_selection\n",
    "from sklearn.metrics import accuracy_score, f1_score, precision_score, recall_score, roc_auc_score, roc_curve, confusion_matrix"
   ]
  },
  {
   "cell_type": "markdown",
   "id": "c4182eba",
   "metadata": {},
   "source": [
    "## 1.  Data loading"
   ]
  },
  {
   "cell_type": "code",
   "execution_count": 2,
   "id": "5ae7e14d",
   "metadata": {
    "ExecuteTime": {
     "end_time": "2021-07-15T22:17:40.976823Z",
     "start_time": "2021-07-15T22:17:40.937970Z"
    },
    "scrolled": false
   },
   "outputs": [],
   "source": [
    "data = pd.read_csv(\"breast-cancer-wisconsin.data\", header = None, na_values=\"?\", names = ['Sample_code_number', \n",
    "                    'Clump_Thickness', 'Uniformity_of_Cell_Size', 'Uniformity_of_Cell_Shape',\n",
    "                    'Marginal_Adhesion', 'Single_Epithelial_Cell_Size', 'Bare_Nuclei', 'Bland_Chromatin', \n",
    "                    'Normal_Nucleoli', 'Mitoses', 'Class'])"
   ]
  },
  {
   "cell_type": "code",
   "execution_count": 3,
   "id": "723a81df",
   "metadata": {
    "ExecuteTime": {
     "end_time": "2021-07-15T22:17:41.027209Z",
     "start_time": "2021-07-15T22:17:40.980443Z"
    }
   },
   "outputs": [
    {
     "data": {
      "text/html": [
       "<div>\n",
       "<style scoped>\n",
       "    .dataframe tbody tr th:only-of-type {\n",
       "        vertical-align: middle;\n",
       "    }\n",
       "\n",
       "    .dataframe tbody tr th {\n",
       "        vertical-align: top;\n",
       "    }\n",
       "\n",
       "    .dataframe thead th {\n",
       "        text-align: right;\n",
       "    }\n",
       "</style>\n",
       "<table border=\"1\" class=\"dataframe\">\n",
       "  <thead>\n",
       "    <tr style=\"text-align: right;\">\n",
       "      <th></th>\n",
       "      <th>Sample_code_number</th>\n",
       "      <th>Clump_Thickness</th>\n",
       "      <th>Uniformity_of_Cell_Size</th>\n",
       "      <th>Uniformity_of_Cell_Shape</th>\n",
       "      <th>Marginal_Adhesion</th>\n",
       "      <th>Single_Epithelial_Cell_Size</th>\n",
       "      <th>Bare_Nuclei</th>\n",
       "      <th>Bland_Chromatin</th>\n",
       "      <th>Normal_Nucleoli</th>\n",
       "      <th>Mitoses</th>\n",
       "      <th>Class</th>\n",
       "    </tr>\n",
       "  </thead>\n",
       "  <tbody>\n",
       "    <tr>\n",
       "      <th>0</th>\n",
       "      <td>1000025</td>\n",
       "      <td>5</td>\n",
       "      <td>1</td>\n",
       "      <td>1</td>\n",
       "      <td>1</td>\n",
       "      <td>2</td>\n",
       "      <td>1.0</td>\n",
       "      <td>3</td>\n",
       "      <td>1</td>\n",
       "      <td>1</td>\n",
       "      <td>2</td>\n",
       "    </tr>\n",
       "    <tr>\n",
       "      <th>1</th>\n",
       "      <td>1002945</td>\n",
       "      <td>5</td>\n",
       "      <td>4</td>\n",
       "      <td>4</td>\n",
       "      <td>5</td>\n",
       "      <td>7</td>\n",
       "      <td>10.0</td>\n",
       "      <td>3</td>\n",
       "      <td>2</td>\n",
       "      <td>1</td>\n",
       "      <td>2</td>\n",
       "    </tr>\n",
       "    <tr>\n",
       "      <th>2</th>\n",
       "      <td>1015425</td>\n",
       "      <td>3</td>\n",
       "      <td>1</td>\n",
       "      <td>1</td>\n",
       "      <td>1</td>\n",
       "      <td>2</td>\n",
       "      <td>2.0</td>\n",
       "      <td>3</td>\n",
       "      <td>1</td>\n",
       "      <td>1</td>\n",
       "      <td>2</td>\n",
       "    </tr>\n",
       "    <tr>\n",
       "      <th>3</th>\n",
       "      <td>1016277</td>\n",
       "      <td>6</td>\n",
       "      <td>8</td>\n",
       "      <td>8</td>\n",
       "      <td>1</td>\n",
       "      <td>3</td>\n",
       "      <td>4.0</td>\n",
       "      <td>3</td>\n",
       "      <td>7</td>\n",
       "      <td>1</td>\n",
       "      <td>2</td>\n",
       "    </tr>\n",
       "    <tr>\n",
       "      <th>4</th>\n",
       "      <td>1017023</td>\n",
       "      <td>4</td>\n",
       "      <td>1</td>\n",
       "      <td>1</td>\n",
       "      <td>3</td>\n",
       "      <td>2</td>\n",
       "      <td>1.0</td>\n",
       "      <td>3</td>\n",
       "      <td>1</td>\n",
       "      <td>1</td>\n",
       "      <td>2</td>\n",
       "    </tr>\n",
       "    <tr>\n",
       "      <th>...</th>\n",
       "      <td>...</td>\n",
       "      <td>...</td>\n",
       "      <td>...</td>\n",
       "      <td>...</td>\n",
       "      <td>...</td>\n",
       "      <td>...</td>\n",
       "      <td>...</td>\n",
       "      <td>...</td>\n",
       "      <td>...</td>\n",
       "      <td>...</td>\n",
       "      <td>...</td>\n",
       "    </tr>\n",
       "    <tr>\n",
       "      <th>694</th>\n",
       "      <td>776715</td>\n",
       "      <td>3</td>\n",
       "      <td>1</td>\n",
       "      <td>1</td>\n",
       "      <td>1</td>\n",
       "      <td>3</td>\n",
       "      <td>2.0</td>\n",
       "      <td>1</td>\n",
       "      <td>1</td>\n",
       "      <td>1</td>\n",
       "      <td>2</td>\n",
       "    </tr>\n",
       "    <tr>\n",
       "      <th>695</th>\n",
       "      <td>841769</td>\n",
       "      <td>2</td>\n",
       "      <td>1</td>\n",
       "      <td>1</td>\n",
       "      <td>1</td>\n",
       "      <td>2</td>\n",
       "      <td>1.0</td>\n",
       "      <td>1</td>\n",
       "      <td>1</td>\n",
       "      <td>1</td>\n",
       "      <td>2</td>\n",
       "    </tr>\n",
       "    <tr>\n",
       "      <th>696</th>\n",
       "      <td>888820</td>\n",
       "      <td>5</td>\n",
       "      <td>10</td>\n",
       "      <td>10</td>\n",
       "      <td>3</td>\n",
       "      <td>7</td>\n",
       "      <td>3.0</td>\n",
       "      <td>8</td>\n",
       "      <td>10</td>\n",
       "      <td>2</td>\n",
       "      <td>4</td>\n",
       "    </tr>\n",
       "    <tr>\n",
       "      <th>697</th>\n",
       "      <td>897471</td>\n",
       "      <td>4</td>\n",
       "      <td>8</td>\n",
       "      <td>6</td>\n",
       "      <td>4</td>\n",
       "      <td>3</td>\n",
       "      <td>4.0</td>\n",
       "      <td>10</td>\n",
       "      <td>6</td>\n",
       "      <td>1</td>\n",
       "      <td>4</td>\n",
       "    </tr>\n",
       "    <tr>\n",
       "      <th>698</th>\n",
       "      <td>897471</td>\n",
       "      <td>4</td>\n",
       "      <td>8</td>\n",
       "      <td>8</td>\n",
       "      <td>5</td>\n",
       "      <td>4</td>\n",
       "      <td>5.0</td>\n",
       "      <td>10</td>\n",
       "      <td>4</td>\n",
       "      <td>1</td>\n",
       "      <td>4</td>\n",
       "    </tr>\n",
       "  </tbody>\n",
       "</table>\n",
       "<p>699 rows × 11 columns</p>\n",
       "</div>"
      ],
      "text/plain": [
       "     Sample_code_number  Clump_Thickness  Uniformity_of_Cell_Size  \\\n",
       "0               1000025                5                        1   \n",
       "1               1002945                5                        4   \n",
       "2               1015425                3                        1   \n",
       "3               1016277                6                        8   \n",
       "4               1017023                4                        1   \n",
       "..                  ...              ...                      ...   \n",
       "694              776715                3                        1   \n",
       "695              841769                2                        1   \n",
       "696              888820                5                       10   \n",
       "697              897471                4                        8   \n",
       "698              897471                4                        8   \n",
       "\n",
       "     Uniformity_of_Cell_Shape  Marginal_Adhesion  Single_Epithelial_Cell_Size  \\\n",
       "0                           1                  1                            2   \n",
       "1                           4                  5                            7   \n",
       "2                           1                  1                            2   \n",
       "3                           8                  1                            3   \n",
       "4                           1                  3                            2   \n",
       "..                        ...                ...                          ...   \n",
       "694                         1                  1                            3   \n",
       "695                         1                  1                            2   \n",
       "696                        10                  3                            7   \n",
       "697                         6                  4                            3   \n",
       "698                         8                  5                            4   \n",
       "\n",
       "     Bare_Nuclei  Bland_Chromatin  Normal_Nucleoli  Mitoses  Class  \n",
       "0            1.0                3                1        1      2  \n",
       "1           10.0                3                2        1      2  \n",
       "2            2.0                3                1        1      2  \n",
       "3            4.0                3                7        1      2  \n",
       "4            1.0                3                1        1      2  \n",
       "..           ...              ...              ...      ...    ...  \n",
       "694          2.0                1                1        1      2  \n",
       "695          1.0                1                1        1      2  \n",
       "696          3.0                8               10        2      4  \n",
       "697          4.0               10                6        1      4  \n",
       "698          5.0               10                4        1      4  \n",
       "\n",
       "[699 rows x 11 columns]"
      ]
     },
     "execution_count": 3,
     "metadata": {},
     "output_type": "execute_result"
    }
   ],
   "source": [
    "data"
   ]
  },
  {
   "cell_type": "markdown",
   "id": "3b902768",
   "metadata": {},
   "source": [
    "## 2. Data pre-processing"
   ]
  },
  {
   "cell_type": "markdown",
   "id": "3bd35883",
   "metadata": {},
   "source": [
    "#### (a) Check for any null or NA values"
   ]
  },
  {
   "cell_type": "code",
   "execution_count": 4,
   "id": "68665b7e",
   "metadata": {
    "ExecuteTime": {
     "end_time": "2021-07-15T22:17:41.059777Z",
     "start_time": "2021-07-15T22:17:41.031787Z"
    },
    "scrolled": true
   },
   "outputs": [
    {
     "data": {
      "text/plain": [
       "Sample_code_number              0\n",
       "Clump_Thickness                 0\n",
       "Uniformity_of_Cell_Size         0\n",
       "Uniformity_of_Cell_Shape        0\n",
       "Marginal_Adhesion               0\n",
       "Single_Epithelial_Cell_Size     0\n",
       "Bare_Nuclei                    16\n",
       "Bland_Chromatin                 0\n",
       "Normal_Nucleoli                 0\n",
       "Mitoses                         0\n",
       "Class                           0\n",
       "dtype: int64"
      ]
     },
     "execution_count": 4,
     "metadata": {},
     "output_type": "execute_result"
    }
   ],
   "source": [
    "data.isna().sum()"
   ]
  },
  {
   "cell_type": "markdown",
   "id": "7d4c292f",
   "metadata": {},
   "source": [
    "#### (b) Given: There are 16 instances in Groups 1 to 6 that contain a single missing (i.e., unavailable) attribute value, now denoted by \"?\"\n",
    "\n",
    "#### Hence remove those rows containing '?' \n",
    "#### Additionally remove \"Sample Code number\" column since it does not contain any infomation."
   ]
  },
  {
   "cell_type": "code",
   "execution_count": 5,
   "id": "60581930",
   "metadata": {
    "ExecuteTime": {
     "end_time": "2021-07-15T22:17:41.123984Z",
     "start_time": "2021-07-15T22:17:41.062769Z"
    },
    "scrolled": false
   },
   "outputs": [
    {
     "data": {
      "text/html": [
       "<div>\n",
       "<style scoped>\n",
       "    .dataframe tbody tr th:only-of-type {\n",
       "        vertical-align: middle;\n",
       "    }\n",
       "\n",
       "    .dataframe tbody tr th {\n",
       "        vertical-align: top;\n",
       "    }\n",
       "\n",
       "    .dataframe thead th {\n",
       "        text-align: right;\n",
       "    }\n",
       "</style>\n",
       "<table border=\"1\" class=\"dataframe\">\n",
       "  <thead>\n",
       "    <tr style=\"text-align: right;\">\n",
       "      <th></th>\n",
       "      <th>Clump_Thickness</th>\n",
       "      <th>Uniformity_of_Cell_Size</th>\n",
       "      <th>Uniformity_of_Cell_Shape</th>\n",
       "      <th>Marginal_Adhesion</th>\n",
       "      <th>Single_Epithelial_Cell_Size</th>\n",
       "      <th>Bare_Nuclei</th>\n",
       "      <th>Bland_Chromatin</th>\n",
       "      <th>Normal_Nucleoli</th>\n",
       "      <th>Mitoses</th>\n",
       "      <th>Class</th>\n",
       "    </tr>\n",
       "  </thead>\n",
       "  <tbody>\n",
       "    <tr>\n",
       "      <th>0</th>\n",
       "      <td>5</td>\n",
       "      <td>1</td>\n",
       "      <td>1</td>\n",
       "      <td>1</td>\n",
       "      <td>2</td>\n",
       "      <td>1.0</td>\n",
       "      <td>3</td>\n",
       "      <td>1</td>\n",
       "      <td>1</td>\n",
       "      <td>2</td>\n",
       "    </tr>\n",
       "    <tr>\n",
       "      <th>1</th>\n",
       "      <td>5</td>\n",
       "      <td>4</td>\n",
       "      <td>4</td>\n",
       "      <td>5</td>\n",
       "      <td>7</td>\n",
       "      <td>10.0</td>\n",
       "      <td>3</td>\n",
       "      <td>2</td>\n",
       "      <td>1</td>\n",
       "      <td>2</td>\n",
       "    </tr>\n",
       "    <tr>\n",
       "      <th>2</th>\n",
       "      <td>3</td>\n",
       "      <td>1</td>\n",
       "      <td>1</td>\n",
       "      <td>1</td>\n",
       "      <td>2</td>\n",
       "      <td>2.0</td>\n",
       "      <td>3</td>\n",
       "      <td>1</td>\n",
       "      <td>1</td>\n",
       "      <td>2</td>\n",
       "    </tr>\n",
       "    <tr>\n",
       "      <th>3</th>\n",
       "      <td>6</td>\n",
       "      <td>8</td>\n",
       "      <td>8</td>\n",
       "      <td>1</td>\n",
       "      <td>3</td>\n",
       "      <td>4.0</td>\n",
       "      <td>3</td>\n",
       "      <td>7</td>\n",
       "      <td>1</td>\n",
       "      <td>2</td>\n",
       "    </tr>\n",
       "    <tr>\n",
       "      <th>4</th>\n",
       "      <td>4</td>\n",
       "      <td>1</td>\n",
       "      <td>1</td>\n",
       "      <td>3</td>\n",
       "      <td>2</td>\n",
       "      <td>1.0</td>\n",
       "      <td>3</td>\n",
       "      <td>1</td>\n",
       "      <td>1</td>\n",
       "      <td>2</td>\n",
       "    </tr>\n",
       "    <tr>\n",
       "      <th>...</th>\n",
       "      <td>...</td>\n",
       "      <td>...</td>\n",
       "      <td>...</td>\n",
       "      <td>...</td>\n",
       "      <td>...</td>\n",
       "      <td>...</td>\n",
       "      <td>...</td>\n",
       "      <td>...</td>\n",
       "      <td>...</td>\n",
       "      <td>...</td>\n",
       "    </tr>\n",
       "    <tr>\n",
       "      <th>694</th>\n",
       "      <td>3</td>\n",
       "      <td>1</td>\n",
       "      <td>1</td>\n",
       "      <td>1</td>\n",
       "      <td>3</td>\n",
       "      <td>2.0</td>\n",
       "      <td>1</td>\n",
       "      <td>1</td>\n",
       "      <td>1</td>\n",
       "      <td>2</td>\n",
       "    </tr>\n",
       "    <tr>\n",
       "      <th>695</th>\n",
       "      <td>2</td>\n",
       "      <td>1</td>\n",
       "      <td>1</td>\n",
       "      <td>1</td>\n",
       "      <td>2</td>\n",
       "      <td>1.0</td>\n",
       "      <td>1</td>\n",
       "      <td>1</td>\n",
       "      <td>1</td>\n",
       "      <td>2</td>\n",
       "    </tr>\n",
       "    <tr>\n",
       "      <th>696</th>\n",
       "      <td>5</td>\n",
       "      <td>10</td>\n",
       "      <td>10</td>\n",
       "      <td>3</td>\n",
       "      <td>7</td>\n",
       "      <td>3.0</td>\n",
       "      <td>8</td>\n",
       "      <td>10</td>\n",
       "      <td>2</td>\n",
       "      <td>4</td>\n",
       "    </tr>\n",
       "    <tr>\n",
       "      <th>697</th>\n",
       "      <td>4</td>\n",
       "      <td>8</td>\n",
       "      <td>6</td>\n",
       "      <td>4</td>\n",
       "      <td>3</td>\n",
       "      <td>4.0</td>\n",
       "      <td>10</td>\n",
       "      <td>6</td>\n",
       "      <td>1</td>\n",
       "      <td>4</td>\n",
       "    </tr>\n",
       "    <tr>\n",
       "      <th>698</th>\n",
       "      <td>4</td>\n",
       "      <td>8</td>\n",
       "      <td>8</td>\n",
       "      <td>5</td>\n",
       "      <td>4</td>\n",
       "      <td>5.0</td>\n",
       "      <td>10</td>\n",
       "      <td>4</td>\n",
       "      <td>1</td>\n",
       "      <td>4</td>\n",
       "    </tr>\n",
       "  </tbody>\n",
       "</table>\n",
       "<p>683 rows × 10 columns</p>\n",
       "</div>"
      ],
      "text/plain": [
       "     Clump_Thickness  Uniformity_of_Cell_Size  Uniformity_of_Cell_Shape  \\\n",
       "0                  5                        1                         1   \n",
       "1                  5                        4                         4   \n",
       "2                  3                        1                         1   \n",
       "3                  6                        8                         8   \n",
       "4                  4                        1                         1   \n",
       "..               ...                      ...                       ...   \n",
       "694                3                        1                         1   \n",
       "695                2                        1                         1   \n",
       "696                5                       10                        10   \n",
       "697                4                        8                         6   \n",
       "698                4                        8                         8   \n",
       "\n",
       "     Marginal_Adhesion  Single_Epithelial_Cell_Size  Bare_Nuclei  \\\n",
       "0                    1                            2          1.0   \n",
       "1                    5                            7         10.0   \n",
       "2                    1                            2          2.0   \n",
       "3                    1                            3          4.0   \n",
       "4                    3                            2          1.0   \n",
       "..                 ...                          ...          ...   \n",
       "694                  1                            3          2.0   \n",
       "695                  1                            2          1.0   \n",
       "696                  3                            7          3.0   \n",
       "697                  4                            3          4.0   \n",
       "698                  5                            4          5.0   \n",
       "\n",
       "     Bland_Chromatin  Normal_Nucleoli  Mitoses  Class  \n",
       "0                  3                1        1      2  \n",
       "1                  3                2        1      2  \n",
       "2                  3                1        1      2  \n",
       "3                  3                7        1      2  \n",
       "4                  3                1        1      2  \n",
       "..               ...              ...      ...    ...  \n",
       "694                1                1        1      2  \n",
       "695                1                1        1      2  \n",
       "696                8               10        2      4  \n",
       "697               10                6        1      4  \n",
       "698               10                4        1      4  \n",
       "\n",
       "[683 rows x 10 columns]"
      ]
     },
     "execution_count": 5,
     "metadata": {},
     "output_type": "execute_result"
    }
   ],
   "source": [
    "data = data[(data.astype(str) != \"nan\").all(axis=1)]\n",
    "data = data.drop([\"Sample_code_number\"], axis = 1)\n",
    "data"
   ]
  },
  {
   "cell_type": "markdown",
   "id": "3525b39a",
   "metadata": {},
   "source": [
    "#### (c) Correlation matrix of features"
   ]
  },
  {
   "cell_type": "code",
   "execution_count": 6,
   "id": "7932d59b",
   "metadata": {
    "ExecuteTime": {
     "end_time": "2021-07-15T22:17:43.951642Z",
     "start_time": "2021-07-15T22:17:41.128993Z"
    },
    "scrolled": false
   },
   "outputs": [
    {
     "data": {
      "image/png": "[encoded data removed]",
      "text/plain": [
       "<Figure size 576x576 with 2 Axes>"
      ]
     },
     "metadata": {
      "needs_background": "light"
     },
     "output_type": "display_data"
    }
   ],
   "source": [
    "corrmat = data.corr()\n",
    "top_corr_features = corrmat.index\n",
    "plt.figure(figsize =(8,8))\n",
    "g = sns.heatmap(data[top_corr_features].corr(),annot=True,cmap = 'RdYlGn')"
   ]
  },
  {
   "cell_type": "markdown",
   "id": "6444a81e",
   "metadata": {},
   "source": [
    "### Highly co-related features - Uniformity_of_Cell_Size and Uniformity_of_Cell_Shape with 0.91\n",
    "\n",
    "### Hence, drop  feaure"
   ]
  },
  {
   "cell_type": "code",
   "execution_count": 7,
   "id": "b85cc624",
   "metadata": {
    "ExecuteTime": {
     "end_time": "2021-07-15T22:17:43.974627Z",
     "start_time": "2021-07-15T22:17:43.953872Z"
    }
   },
   "outputs": [],
   "source": [
    "data = data.drop([\"Uniformity_of_Cell_Shape\"], axis = 1)"
   ]
  },
  {
   "cell_type": "markdown",
   "id": "fdbe8bed",
   "metadata": {},
   "source": [
    "#### (d) Up-sampling of data (to account of unbalanced data)"
   ]
  },
  {
   "cell_type": "code",
   "execution_count": 8,
   "id": "f3796ec9",
   "metadata": {
    "ExecuteTime": {
     "end_time": "2021-07-15T22:17:44.008100Z",
     "start_time": "2021-07-15T22:17:43.984894Z"
    }
   },
   "outputs": [
    {
     "data": {
      "text/plain": [
       "2    444\n",
       "4    239\n",
       "Name: Class, dtype: int64"
      ]
     },
     "execution_count": 8,
     "metadata": {},
     "output_type": "execute_result"
    }
   ],
   "source": [
    "data.Class.value_counts()"
   ]
  },
  {
   "cell_type": "code",
   "execution_count": 9,
   "id": "d2dbc436",
   "metadata": {
    "ExecuteTime": {
     "end_time": "2021-07-15T22:17:44.091498Z",
     "start_time": "2021-07-15T22:17:44.019431Z"
    }
   },
   "outputs": [
    {
     "data": {
      "text/plain": [
       "2    444\n",
       "4    444\n",
       "Name: Class, dtype: int64"
      ]
     },
     "execution_count": 9,
     "metadata": {},
     "output_type": "execute_result"
    }
   ],
   "source": [
    "df_majority = data[data.Class == 2]\n",
    "df_minority = data[data.Class == 4]\n",
    "\n",
    "df_minority_upsampled = resample(df_minority , replace = True, n_samples = 444, random_state =123)\n",
    "\n",
    "df = pd.concat([df_majority, df_minority_upsampled])\n",
    "\n",
    "df.Class.value_counts()"
   ]
  },
  {
   "cell_type": "markdown",
   "id": "78281c67",
   "metadata": {},
   "source": [
    "#### (e) Seperate into Features and Labels"
   ]
  },
  {
   "cell_type": "code",
   "execution_count": 10,
   "id": "cd0ce048",
   "metadata": {
    "ExecuteTime": {
     "end_time": "2021-07-15T22:17:44.122631Z",
     "start_time": "2021-07-15T22:17:44.096943Z"
    }
   },
   "outputs": [],
   "source": [
    "features = df.drop([\"Class\"], axis = 1)\n",
    "labels = df[\"Class\"]"
   ]
  },
  {
   "cell_type": "markdown",
   "id": "2f838aed",
   "metadata": {},
   "source": [
    "#### (f) Given: Class - 2 for benign, 4 for malignant\n",
    "\n",
    "#### Hence replace benign by 0 and malignant by 1."
   ]
  },
  {
   "cell_type": "code",
   "execution_count": 11,
   "id": "38747d00",
   "metadata": {
    "ExecuteTime": {
     "end_time": "2021-07-15T22:17:44.148714Z",
     "start_time": "2021-07-15T22:17:44.129636Z"
    }
   },
   "outputs": [],
   "source": [
    "labels = labels.replace(to_replace = [2, 4], value = [0, 1])"
   ]
  },
  {
   "cell_type": "markdown",
   "id": "75137705",
   "metadata": {},
   "source": [
    "#### (g) Split data into test and train"
   ]
  },
  {
   "cell_type": "code",
   "execution_count": 12,
   "id": "ef6386a4",
   "metadata": {
    "ExecuteTime": {
     "end_time": "2021-07-15T22:17:44.190509Z",
     "start_time": "2021-07-15T22:17:44.153969Z"
    }
   },
   "outputs": [],
   "source": [
    "features_train, features_test, labels_train, labels_test = train_test_split(features, labels, \n",
    "                                                                            test_size=0.25, random_state = 42)"
   ]
  },
  {
   "cell_type": "markdown",
   "id": "41fe03b7",
   "metadata": {},
   "source": [
    "## 3. ML algorithms comparison"
   ]
  },
  {
   "cell_type": "markdown",
   "id": "f8c6b488",
   "metadata": {},
   "source": [
    "#### (a) Pipeline and evaluation"
   ]
  },
  {
   "cell_type": "code",
   "execution_count": 33,
   "id": "339ac277",
   "metadata": {
    "ExecuteTime": {
     "end_time": "2021-07-15T22:23:21.915057Z",
     "start_time": "2021-07-15T22:23:21.188431Z"
    },
    "scrolled": false
   },
   "outputs": [
    {
     "name": "stdout",
     "output_type": "stream",
     "text": [
      "Accuracy with KNN: 0.98\n",
      "Precision with KNN: 0.99\n",
      "Recall with KNN: 0.96\n",
      "F1 score with KNN: 0.98\n",
      "\n",
      "Accuracy with Logistic Regression: 0.98\n",
      "Precision with Logistic Regression: 0.98\n",
      "Recall with Logistic Regression: 0.97\n",
      "F1 score with Logistic Regression: 0.98\n",
      "\n",
      "Accuracy with SVM: 0.97\n",
      "Precision with SVM: 0.97\n",
      "Recall with SVM: 0.97\n",
      "F1 score with SVM: 0.97\n",
      "\n",
      "Accuracy with Decision Tree: 0.98\n",
      "Precision with Decision Tree: 1.00\n",
      "Recall with Decision Tree: 0.95\n",
      "F1 score with Decision Tree: 0.98\n",
      "\n",
      "Accuracy with Random Forest: 0.99\n",
      "Precision with Random Forest: 0.99\n",
      "Recall with Random Forest: 0.99\n",
      "F1 score with Random Forest: 0.99\n",
      "\n"
     ]
    }
   ],
   "source": [
    "classifiers = [('KNN', KNeighborsClassifier()),\n",
    "              ('Logistic Regression', LogisticRegression()),\n",
    "               ('SVM', SVC()), \n",
    "               ('Decision Tree', DecisionTreeClassifier()), \n",
    "              ('Random Forest', RandomForestClassifier())]\n",
    "acc = []\n",
    "curve = []\n",
    "for a,b in classifiers:\n",
    "    pipe = Pipeline([(a, b)])\n",
    "    \n",
    "    model = pipe.fit(features_train, labels_train)\n",
    "    pred = model.predict(features_test)\n",
    "    \n",
    "    accuracy = accuracy_score(labels_test, pred)\n",
    "    print(\"Accuracy with {0}: {1:.2f}\".format(a, accuracy))\n",
    "    acc.append((a, accuracy))\n",
    "    \n",
    "    precision = precision_score(labels_test, pred)\n",
    "    print ('Precision with {}: {:.2f}'.format(a, precision))\n",
    "\n",
    "    recall = recall_score(labels_test, pred)\n",
    "    print ('Recall with {}: {:.2f}'.format(a, recall))\n",
    "\n",
    "    f1 = f1_score(labels_test, pred)\n",
    "    print ('F1 score with {}: {:.2f}\\n'.format(a, f1))\n",
    "    \n",
    "    auroc = roc_auc_score(labels_test, pred)\n",
    "    fpr, tpr, thresholds = roc_curve(labels_test, pred)\n",
    "    curve.append((a,fpr,tpr, auroc))"
   ]
  },
  {
   "cell_type": "markdown",
   "id": "d4477471",
   "metadata": {},
   "source": [
    "#### Evaluation with ROC curve"
   ]
  },
  {
   "cell_type": "code",
   "execution_count": 34,
   "id": "1406c19f",
   "metadata": {
    "ExecuteTime": {
     "end_time": "2021-07-15T22:23:26.138739Z",
     "start_time": "2021-07-15T22:23:25.395864Z"
    },
    "scrolled": false
   },
   "outputs": [
    {
     "name": "stdout",
     "output_type": "stream",
     "text": [
      "AUROC score with KNN: 0.98\n",
      "AUROC score with Logistic Regression: 0.98\n",
      "AUROC score with SVM: 0.97\n",
      "AUROC score with Decision Tree: 0.98\n",
      "AUROC score with Random Forest: 0.99\n"
     ]
    },
    {
     "data": {
      "image/png": "[encoded data removed]",
      "text/plain": [
       "<Figure size 432x288 with 1 Axes>"
      ]
     },
     "metadata": {
      "needs_background": "light"
     },
     "output_type": "display_data"
    }
   ],
   "source": [
    "for a,fpr,tpr,auroc in curve:\n",
    "    plt.plot(fpr, tpr, label= a + \" (\" + str(round(auroc, 2)) + \")\" )\n",
    "    plt.plot([0, 1], [0, 1], color='darkblue', linestyle='--')\n",
    "    plt.xlabel('False Positive Rate')\n",
    "    plt.ylabel('True Positive Rate')\n",
    "    plt.title('Receiver Operating Characteristic (ROC) Curve')\n",
    "    plt.legend()\n",
    "    print(\"AUROC score with {}: {:.2f}\".format(a,auroc))"
   ]
  },
  {
   "cell_type": "markdown",
   "id": "5d8aab43",
   "metadata": {},
   "source": [
    "#### (b) Cross-validation with Model selection and Box-plot"
   ]
  },
  {
   "cell_type": "code",
   "execution_count": 15,
   "id": "d0bab90c",
   "metadata": {
    "ExecuteTime": {
     "end_time": "2021-07-15T22:17:51.340849Z",
     "start_time": "2021-07-15T22:17:46.090555Z"
    },
    "scrolled": false
   },
   "outputs": [
    {
     "name": "stdout",
     "output_type": "stream",
     "text": [
      "KNN: 0.98 (0.02)\n",
      "Logistic Regression: 0.97 (0.03)\n",
      "SVM: 0.97 (0.03)\n",
      "Decision Tree: 0.96 (0.02)\n",
      "Random Forest: 0.98 (0.02)\n"
     ]
    },
    {
     "data": {
      "image/png": "[encoded data removed]",
      "text/plain": [
       "<Figure size 432x288 with 1 Axes>"
      ]
     },
     "metadata": {
      "needs_background": "light"
     },
     "output_type": "display_data"
    }
   ],
   "source": [
    "results = []\n",
    "names = []\n",
    "\n",
    "for a,b in classifiers:\n",
    "    kfold = model_selection.KFold(n_splits=10, shuffle = True, random_state=7)\n",
    "    cv_results = model_selection.cross_val_score(b, features_train, labels_train, cv=kfold, scoring='accuracy')\n",
    "    results.append(cv_results)\n",
    "    names.append(a)\n",
    "    print(\"{}: {:.2f} ({:.2f})\".format(a, cv_results.mean(), cv_results.std()))\n",
    "    \n",
    "# boxplot algorithm comparison\n",
    "fig = plt.figure()\n",
    "fig.suptitle('Algorithm Comparison')\n",
    "ax = fig.add_subplot(111)\n",
    "plt.boxplot(results)\n",
    "ax.set_xticklabels(names)\n",
    "plt.show()"
   ]
  },
  {
   "cell_type": "markdown",
   "id": "359efb47",
   "metadata": {},
   "source": [
    "### GridSearch -  Individual evaluation with Feature Importances"
   ]
  },
  {
   "cell_type": "markdown",
   "id": "4be89fc4",
   "metadata": {},
   "source": [
    "#### KNN"
   ]
  },
  {
   "cell_type": "code",
   "execution_count": 17,
   "id": "f58f47fb",
   "metadata": {
    "ExecuteTime": {
     "end_time": "2021-07-15T22:18:41.948806Z",
     "start_time": "2021-07-15T22:18:41.235491Z"
    }
   },
   "outputs": [
    {
     "name": "stdout",
     "output_type": "stream",
     "text": [
      "Best Score with KNN: 0.98\n"
     ]
    },
    {
     "data": {
      "text/plain": [
       "<AxesSubplot:>"
      ]
     },
     "execution_count": 17,
     "metadata": {},
     "output_type": "execute_result"
    },
    {
     "data": {
      "image/png": "[encoded data removed]",
      "text/plain": [
       "<Figure size 432x288 with 2 Axes>"
      ]
     },
     "metadata": {
      "needs_background": "light"
     },
     "output_type": "display_data"
    }
   ],
   "source": [
    "grid_params = {'n_neighbors': [3,5,7,9], 'weights' : ['uniform', 'distance'], 'metric' : ['euclidian', 'manhattan']}\n",
    "\n",
    "gs=  GridSearchCV(KNeighborsClassifier(), grid_params, cv = 3, n_jobs = -1)\n",
    "gs_results = gs.fit(features_train, labels_train)\n",
    "print(\"Best Score with KNN: {:.2f}\".format(gs_results.best_score_))\n",
    "\n",
    "#confusion matrix\n",
    "pred = gs.predict(features_test)\n",
    "c = confusion_matrix(labels_test.values.reshape(-1,1), pred)\n",
    "sns.heatmap(c, annot=True, annot_kws={\"size\": 16},  fmt=\".1f\")"
   ]
  },
  {
   "cell_type": "markdown",
   "id": "dc10b173",
   "metadata": {},
   "source": [
    "#### Logistic Regression"
   ]
  },
  {
   "cell_type": "code",
   "execution_count": 18,
   "id": "a8120fe0",
   "metadata": {
    "ExecuteTime": {
     "end_time": "2021-07-15T22:18:53.929821Z",
     "start_time": "2021-07-15T22:18:52.737352Z"
    }
   },
   "outputs": [
    {
     "name": "stdout",
     "output_type": "stream",
     "text": [
      "Best Score with Logistic Regression: 0.96\n"
     ]
    },
    {
     "data": {
      "image/png": "[encoded data removed]",
      "text/plain": [
       "<Figure size 432x288 with 2 Axes>"
      ]
     },
     "metadata": {
      "needs_background": "light"
     },
     "output_type": "display_data"
    },
    {
     "data": {
      "image/png": "[encoded data removed]",
      "text/plain": [
       "<Figure size 432x288 with 1 Axes>"
      ]
     },
     "metadata": {
      "needs_background": "light"
     },
     "output_type": "display_data"
    }
   ],
   "source": [
    "params = {'fit_intercept': [True,False],\n",
    "          'solver':['svd', 'cholesky', 'lsqr', 'sparse_cg', 'sag', 'saga']}\n",
    "\n",
    "gs =  GridSearchCV(LogisticRegression(), params, n_jobs = -1,cv=5)\n",
    "gs.fit(features_train, labels_train)\n",
    "print(\"Best Score with Logistic Regression: {:.2f}\".format(gs.best_score_))\n",
    "\n",
    "#confusion matrix\n",
    "pred = gs.predict(features_test)\n",
    "c = confusion_matrix(labels_test.values.reshape(-1,1), pred)\n",
    "sns.heatmap(c, annot=True, annot_kws={\"size\": 16},  fmt=\".1f\")\n",
    "\n",
    "#feature importance\n",
    "feature_scores = pd.Series(gs.best_estimator_.coef_[0], \n",
    "                           index=list(features.columns)).sort_values(ascending=False)\n",
    "\n",
    "f, ax = plt.subplots()\n",
    "ax = sns.barplot(x=feature_scores, y=feature_scores.index)\n",
    "ax.set_title(\"Visualize feature scores of the features\")\n",
    "ax.set_yticklabels(feature_scores.index)\n",
    "ax.set_xlabel(\"Feature importance score\")\n",
    "ax.set_ylabel(\"Features\")\n",
    "plt.show()"
   ]
  },
  {
   "cell_type": "markdown",
   "id": "79a5f8e1",
   "metadata": {},
   "source": [
    "#### SVM"
   ]
  },
  {
   "cell_type": "code",
   "execution_count": 19,
   "id": "f4c309d0",
   "metadata": {
    "ExecuteTime": {
     "end_time": "2021-07-15T22:19:23.751565Z",
     "start_time": "2021-07-15T22:19:08.331520Z"
    }
   },
   "outputs": [
    {
     "name": "stdout",
     "output_type": "stream",
     "text": [
      "Best Score with SVM: 0.97\n"
     ]
    },
    {
     "data": {
      "image/png": "[encoded data removed]",
      "text/plain": [
       "<Figure size 432x288 with 2 Axes>"
      ]
     },
     "metadata": {
      "needs_background": "light"
     },
     "output_type": "display_data"
    },
    {
     "data": {
      "image/png": "[encoded data removed]",
      "text/plain": [
       "<Figure size 432x288 with 1 Axes>"
      ]
     },
     "metadata": {
      "needs_background": "light"
     },
     "output_type": "display_data"
    }
   ],
   "source": [
    "params = {'C': [0.1, 1, 10, 100, 1000], \n",
    "              'gamma': [1, 0.1, 0.01, 0.001, 0.0001],\n",
    "              'kernel': ['linear']} \n",
    "\n",
    "gs =  GridSearchCV(SVC(), params, n_jobs = -1,cv=5)\n",
    "gs.fit(features_train, labels_train)\n",
    "print(\"Best Score with SVM: {:.2f}\".format(gs.best_score_))\n",
    "\n",
    "#confusion matrix\n",
    "pred = gs.predict(features_test)\n",
    "c = confusion_matrix(labels_test.values.reshape(-1,1), pred)\n",
    "sns.heatmap(c, annot=True, annot_kws={\"size\": 16},  fmt=\".1f\")\n",
    "\n",
    "\n",
    "#feature importance\n",
    "feature_scores = pd.Series(gs.best_estimator_.coef_[0], \n",
    "                           index=list(features.columns)).sort_values(ascending=False)\n",
    "\n",
    "f, ax = plt.subplots()\n",
    "ax = sns.barplot(x=feature_scores, y=feature_scores.index)\n",
    "ax.set_title(\"Visualize feature scores of the features\")\n",
    "ax.set_yticklabels(feature_scores.index)\n",
    "ax.set_xlabel(\"Feature importance score\")\n",
    "ax.set_ylabel(\"Features\")\n",
    "plt.show()"
   ]
  },
  {
   "cell_type": "markdown",
   "id": "fcb985d2",
   "metadata": {},
   "source": [
    "#### Decision Tree"
   ]
  },
  {
   "cell_type": "code",
   "execution_count": 20,
   "id": "7066c3bf",
   "metadata": {
    "ExecuteTime": {
     "end_time": "2021-07-15T22:19:30.862834Z",
     "start_time": "2021-07-15T22:19:29.703933Z"
    }
   },
   "outputs": [
    {
     "name": "stdout",
     "output_type": "stream",
     "text": [
      "Best Score with Decision Tree: 0.97\n"
     ]
    },
    {
     "data": {
      "image/png": "[encoded data removed]",
      "text/plain": [
       "<Figure size 432x288 with 2 Axes>"
      ]
     },
     "metadata": {
      "needs_background": "light"
     },
     "output_type": "display_data"
    },
    {
     "data": {
      "image/png": "[encoded data removed]",
      "text/plain": [
       "<Figure size 432x288 with 1 Axes>"
      ]
     },
     "metadata": {
      "needs_background": "light"
     },
     "output_type": "display_data"
    }
   ],
   "source": [
    "params = {'criterion':['gini', 'entropy', 'variance'],\n",
    "          'min_samples_split':[2, 25, 50]}\n",
    "\n",
    "gs =  GridSearchCV(DecisionTreeClassifier(), params, n_jobs = -1,cv=5)\n",
    "gs.fit(features_train, labels_train)\n",
    "print(\"Best Score with Decision Tree: {:.2f}\".format(gs.best_score_))\n",
    "\n",
    "#confusion matrix\n",
    "pred = gs.predict(features_test)\n",
    "c = confusion_matrix(labels_test.values.reshape(-1,1), pred)\n",
    "sns.heatmap(c, annot=True, annot_kws={\"size\": 16},  fmt=\".1f\")\n",
    "\n",
    "#feature importance\n",
    "feature_scores = pd.Series(gs.best_estimator_.feature_importances_, \n",
    "                           index=list(features.columns)).sort_values(ascending=False)\n",
    "\n",
    "f, ax = plt.subplots()\n",
    "ax = sns.barplot(x=feature_scores, y=feature_scores.index)\n",
    "ax.set_title(\"Visualize feature scores of the features\")\n",
    "ax.set_yticklabels(feature_scores.index)\n",
    "ax.set_xlabel(\"Feature importance score\")\n",
    "ax.set_ylabel(\"Features\")\n",
    "plt.show()"
   ]
  },
  {
   "cell_type": "markdown",
   "id": "fbbc77c5",
   "metadata": {},
   "source": [
    "#### Random Forest"
   ]
  },
  {
   "cell_type": "code",
   "execution_count": 21,
   "id": "c908d28e",
   "metadata": {
    "ExecuteTime": {
     "end_time": "2021-07-15T22:22:33.844678Z",
     "start_time": "2021-07-15T22:19:36.782757Z"
    }
   },
   "outputs": [],
   "source": [
    "grid_params = {'bootstrap': [True, False],'criterion': ['gini', 'entropy'], 'n_estimators':[50,200,250],\n",
    "               'max_depth':[10,50,100,120], 'max_features': ['auto', 'sqrt'],\n",
    "               'min_samples_leaf':[3,4],'min_samples_split':[2,5,10]}\n",
    "\n",
    "gs_rf =  GridSearchCV(RandomForestClassifier(), grid_params, cv = 3, n_jobs = -1)\n",
    "res = gs_rf.fit(features_train, labels_train)"
   ]
  },
  {
   "cell_type": "code",
   "execution_count": 22,
   "id": "16b7fd01",
   "metadata": {
    "ExecuteTime": {
     "end_time": "2021-07-15T22:22:40.890869Z",
     "start_time": "2021-07-15T22:22:40.876528Z"
    },
    "scrolled": true
   },
   "outputs": [
    {
     "name": "stdout",
     "output_type": "stream",
     "text": [
      "Best parameters with Random Forest: {'bootstrap': True, 'criterion': 'gini', 'max_depth': 10, 'max_features': 'auto', 'min_samples_leaf': 3, 'min_samples_split': 5, 'n_estimators': 50}\n",
      "\n",
      "Best Score with Random Forest: 0.98\n"
     ]
    }
   ],
   "source": [
    "print(\"Best parameters with Random Forest:\", res.best_params_)\n",
    "print(\"\\nBest Score with Random Forest: {:.2f}\".format(res.best_score_))"
   ]
  },
  {
   "cell_type": "code",
   "execution_count": 24,
   "id": "aef22be3",
   "metadata": {
    "ExecuteTime": {
     "end_time": "2021-07-15T22:22:49.608115Z",
     "start_time": "2021-07-15T22:22:49.083444Z"
    }
   },
   "outputs": [
    {
     "data": {
      "text/plain": [
       "<AxesSubplot:>"
      ]
     },
     "execution_count": 24,
     "metadata": {},
     "output_type": "execute_result"
    },
    {
     "data": {
      "image/png": "[encoded data removed]",
      "text/plain": [
       "<Figure size 432x288 with 2 Axes>"
      ]
     },
     "metadata": {
      "needs_background": "light"
     },
     "output_type": "display_data"
    }
   ],
   "source": [
    "pred = res.predict(features_test)\n",
    "c = confusion_matrix(labels_test.values.reshape(-1,1), pred)\n",
    "sns.heatmap(c, annot=True, annot_kws={\"size\": 16},  fmt=\".1f\")"
   ]
  },
  {
   "cell_type": "code",
   "execution_count": 25,
   "id": "f2d2b0fd",
   "metadata": {
    "ExecuteTime": {
     "end_time": "2021-07-15T22:22:54.297226Z",
     "start_time": "2021-07-15T22:22:53.769487Z"
    },
    "scrolled": true
   },
   "outputs": [
    {
     "data": {
      "image/png": "[encoded data removed]",
      "text/plain": [
       "<Figure size 432x288 with 1 Axes>"
      ]
     },
     "metadata": {
      "needs_background": "light"
     },
     "output_type": "display_data"
    }
   ],
   "source": [
    "feature_scores = pd.Series(res.best_estimator_.feature_importances_, \n",
    "                           index=list(features.columns)).sort_values(ascending=False)\n",
    "\n",
    "f, ax = plt.subplots()\n",
    "ax = sns.barplot(x=feature_scores, y=feature_scores.index)\n",
    "ax.set_title(\"Visualize feature scores of the features\")\n",
    "ax.set_yticklabels(feature_scores.index)\n",
    "ax.set_xlabel(\"Feature importance score\")\n",
    "ax.set_ylabel(\"Features\")\n",
    "plt.show()"
   ]
  },
  {
   "cell_type": "markdown",
   "id": "c32f5431",
   "metadata": {},
   "source": [
    "### Ranking of ML algorithms\n",
    "\n",
    "#### From the above evaluation metrics, the ranking of algorithms is as follows:\n",
    "#### 1. Random Forest\n",
    "#### 2. KNN and Decision Trees\n",
    "#### 3. SVM\n",
    "#### 4. Logistic Regression\n"
   ]
  },
  {
   "cell_type": "markdown",
   "id": "a677a44a",
   "metadata": {},
   "source": [
    "### Conclusion"
   ]
  },
  {
   "cell_type": "markdown",
   "id": "0e96ee11",
   "metadata": {},
   "source": [
    "#### According to my methods above,\n",
    "#### - Random Forest works best for WBCD \n",
    "#### -  Bare Nuclei  and Uniformity of cell size were seen to be consistent features of importance"
   ]
  },
  {
   "cell_type": "markdown",
   "id": "bc83d8e5",
   "metadata": {},
   "source": [
    "### Literature\n",
    "\n",
    "\n",
    "#### In the below paper, they have used Bare Nuclei and Uniformity of cell size as one of their important features: \n",
    "\n",
    "https://www.karger.com/Article/FullText/508780\n",
    "\n",
    "##### \"The presence of bare atypical nuclei in the background emerged as a potential significant diagnostic and predictive feature in FNA smears of breast carcinoma. A multivariant study by Ozkutlu et al. on selecting key cytologic criteria to separate proliferative breast disease from carcinoma showed that the presence of bare atypical nuclei aided significantly in the diagnosis of carcinoma\"\n",
    "\n",
    "Fan F, Namiq AL, Tawfik OW, Thomas PA. Proposed prognostic score for breast carcinoma on fine needle aspiration based on nuclear grade, cellular dyscohesion and bare atypical nuclei. Diagn Cytopathol. 2006 Aug;34(8):542-6. doi: 10.1002/dc.20529 PMID: 16850493.\n",
    "\n",
    "##### \"Nuclear morphometry was thus, a useful objective tool in the differentiating benign, and malignant breast lesions\"\n",
    "\n",
    "Narasimha, A., Vasavi, B., & Kumar, H. M. (2013). Significance of nuclear morphometry in benign and malignant breast aspirates. International journal of applied & basic medical research, 3(1), 22–26. https://doi.org/10.4103/2229-516X.112237\n",
    "\n",
    "##### \"The model was used to quantify the impact of tumor size, histologic grade, and lymph node involvement on the probability of distant spread.\"\n",
    "\n",
    "Maurice Tubiana, Serge Koscielny (1999) The Rationale for Early\n",
    "Diagnosis of Cancer: The Example of Breast Cancer, Acta Oncologica, 38:3, 295-303, DOI:\n",
    "10.1080/028418699431357"
   ]
  }
 ],
 "metadata": {
  "kernelspec": {
   "display_name": "Python 3",
   "language": "python",
   "name": "python3"
  },
  "language_info": {
   "codemirror_mode": {
    "name": "ipython",
    "version": 3
   },
   "file_extension": ".py",
   "mimetype": "text/x-python",
   "name": "python",
   "nbconvert_exporter": "python",
   "pygments_lexer": "ipython3",
   "version": "3.8.10"
  }
 },
 "nbformat": 4,
 "nbformat_minor": 5
}
